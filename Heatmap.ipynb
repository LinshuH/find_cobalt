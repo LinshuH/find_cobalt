{
 "cells": [
  {
   "cell_type": "markdown",
   "id": "c0fa8665",
   "metadata": {},
   "source": [
    "(1) highest likelihood of finding cobalt along the interfaces of serpentinite and granodiorite, \n",
    "(2) Fall smoothly to zero at some distance away\n",
    "(between 5-10 km for this task). \n",
    "(3) Even if serpentinite and granodiorite never touch, the heat map should be non-zero where they are close together.\n",
    "(4) Not Whole Polygon, only the part on or near the interface of the two polygons should be considered prospective, regardless of the type of rock at\n",
    "those locations.\n",
    "\n",
    "Q1: We have location, what about depth, do we care?\n",
    "\n"
   ]
  },
  {
   "cell_type": "markdown",
   "id": "b885fbdd",
   "metadata": {},
   "source": [
    "Why there are so many files? Do I need to use all of them?\n",
    "a.\tShx and shp file are similar\n",
    "(2)\tGoal: \n",
    "a.\tHeat maps based on proximity of Any Two type\n",
    "b.\tAdjustable fall-off distance\n",
    "c.\tTasks 2 actually should be one of result from task 1, Am I understand correct?\n"
   ]
  },
  {
   "cell_type": "code",
   "execution_count": 1,
   "id": "b9f0c6b4",
   "metadata": {},
   "outputs": [],
   "source": [
    "import geopandas as gpd\n",
    "import matplotlib.pyplot as plt\n"
   ]
  },
  {
   "cell_type": "code",
   "execution_count": 3,
   "id": "c7277df7",
   "metadata": {
    "scrolled": true
   },
   "outputs": [
    {
     "name": "stdout",
     "output_type": "stream",
     "text": [
      "['gid', 'upid', 'area_m2', 'strat_unit', 'era', 'period', 'strat_age', 'strat_name', 'gp_suite', 'fm_lithodm', 'mem_phase', 'rock_class', 'rock_type', 'rk_char', 'unit_desc', 'age_max', 'age_min', 'belt', 'terrane', 'basin', 'basin_age', 'project', 'src_url', 'src_ref_s', 'map_comp', 'edit_date', 'pub_org', 'geometry']\n",
      "(1596, 28)\n"
     ]
    }
   ],
   "source": [
    "INPUT_FILE = \"BedrockP.shp\"\n",
    "bedrock_data = gpd.read_file(INPUT_FILE)\n",
    "print(bedrock_data.columns.tolist())\n",
    "print(bedrock_data.shape)"
   ]
  },
  {
   "cell_type": "markdown",
   "id": "98a530e3",
   "metadata": {},
   "source": [
    "## 1, Check the Rock Class, get \"granodiorite\" and \"serpentinite\""
   ]
  },
  {
   "cell_type": "markdown",
   "id": "b9ecab77",
   "metadata": {},
   "source": [
    "* From ChatGPT, \"granodiorite\" is a type of \"intrusive rocks\". </br> \n",
    "* Since prompt mentioned \"all ultramafic rocks are also serpentinite\", so \"serpentinite\" represented by \"metamorphic rocks\" and \"ultramafic rocks\""
   ]
  },
  {
   "cell_type": "code",
   "execution_count": 6,
   "id": "ba93b565",
   "metadata": {},
   "outputs": [
    {
     "name": "stdout",
     "output_type": "stream",
     "text": [
      "granodiorite shape: (455, 28)\n",
      "serpentinite shape: (150, 28)\n"
     ]
    }
   ],
   "source": [
    "# Pre process the data\n",
    "# 1, get all \"granodiorite\" rows\n",
    "granodiorite = bedrock_data[bedrock_data['rock_class'] == \"intrusive rocks\"]\n",
    "\n",
    "serpentinite = bedrock_data[(bedrock_data['rock_class'] == \"metamorphic rocks\") \n",
    "                           | (bedrock_data['rock_class'] == \"ultramafic rocks\")]\n",
    "\n",
    "print(f\"granodiorite shape: {granodiorite.shape}\")\n",
    "print(f\"serpentinite shape: {serpentinite.shape}\")"
   ]
  },
  {
   "cell_type": "markdown",
   "id": "dddb1b02",
   "metadata": {},
   "source": [
    "## 2, "
   ]
  }
 ],
 "metadata": {
  "kernelspec": {
   "display_name": "Python [conda env:Heatmap] *",
   "language": "python",
   "name": "conda-env-Heatmap-py"
  },
  "language_info": {
   "codemirror_mode": {
    "name": "ipython",
    "version": 3
   },
   "file_extension": ".py",
   "mimetype": "text/x-python",
   "name": "python",
   "nbconvert_exporter": "python",
   "pygments_lexer": "ipython3",
   "version": "3.9.16"
  }
 },
 "nbformat": 4,
 "nbformat_minor": 5
}
